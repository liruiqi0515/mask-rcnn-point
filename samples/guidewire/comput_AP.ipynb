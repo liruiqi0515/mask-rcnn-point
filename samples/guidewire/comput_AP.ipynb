{
 "cells": [
  {
   "cell_type": "code",
   "execution_count": 1,
   "metadata": {
    "scrolled": true
   },
   "outputs": [
    {
     "name": "stderr",
     "output_type": "stream",
     "text": [
      "/home/li/anaconda3/envs/keras/lib/python3.6/site-packages/tensorflow/python/framework/dtypes.py:516: FutureWarning: Passing (type, 1) or '1type' as a synonym of type is deprecated; in a future version of numpy, it will be understood as (type, (1,)) / '(1,)type'.\n",
      "  _np_qint8 = np.dtype([(\"qint8\", np.int8, 1)])\n",
      "/home/li/anaconda3/envs/keras/lib/python3.6/site-packages/tensorflow/python/framework/dtypes.py:517: FutureWarning: Passing (type, 1) or '1type' as a synonym of type is deprecated; in a future version of numpy, it will be understood as (type, (1,)) / '(1,)type'.\n",
      "  _np_quint8 = np.dtype([(\"quint8\", np.uint8, 1)])\n",
      "/home/li/anaconda3/envs/keras/lib/python3.6/site-packages/tensorflow/python/framework/dtypes.py:518: FutureWarning: Passing (type, 1) or '1type' as a synonym of type is deprecated; in a future version of numpy, it will be understood as (type, (1,)) / '(1,)type'.\n",
      "  _np_qint16 = np.dtype([(\"qint16\", np.int16, 1)])\n",
      "/home/li/anaconda3/envs/keras/lib/python3.6/site-packages/tensorflow/python/framework/dtypes.py:519: FutureWarning: Passing (type, 1) or '1type' as a synonym of type is deprecated; in a future version of numpy, it will be understood as (type, (1,)) / '(1,)type'.\n",
      "  _np_quint16 = np.dtype([(\"quint16\", np.uint16, 1)])\n",
      "/home/li/anaconda3/envs/keras/lib/python3.6/site-packages/tensorflow/python/framework/dtypes.py:520: FutureWarning: Passing (type, 1) or '1type' as a synonym of type is deprecated; in a future version of numpy, it will be understood as (type, (1,)) / '(1,)type'.\n",
      "  _np_qint32 = np.dtype([(\"qint32\", np.int32, 1)])\n",
      "/home/li/anaconda3/envs/keras/lib/python3.6/site-packages/tensorflow/python/framework/dtypes.py:525: FutureWarning: Passing (type, 1) or '1type' as a synonym of type is deprecated; in a future version of numpy, it will be understood as (type, (1,)) / '(1,)type'.\n",
      "  np_resource = np.dtype([(\"resource\", np.ubyte, 1)])\n",
      "/home/li/anaconda3/envs/keras/lib/python3.6/site-packages/tensorboard/compat/tensorflow_stub/dtypes.py:541: FutureWarning: Passing (type, 1) or '1type' as a synonym of type is deprecated; in a future version of numpy, it will be understood as (type, (1,)) / '(1,)type'.\n",
      "  _np_qint8 = np.dtype([(\"qint8\", np.int8, 1)])\n",
      "/home/li/anaconda3/envs/keras/lib/python3.6/site-packages/tensorboard/compat/tensorflow_stub/dtypes.py:542: FutureWarning: Passing (type, 1) or '1type' as a synonym of type is deprecated; in a future version of numpy, it will be understood as (type, (1,)) / '(1,)type'.\n",
      "  _np_quint8 = np.dtype([(\"quint8\", np.uint8, 1)])\n",
      "/home/li/anaconda3/envs/keras/lib/python3.6/site-packages/tensorboard/compat/tensorflow_stub/dtypes.py:543: FutureWarning: Passing (type, 1) or '1type' as a synonym of type is deprecated; in a future version of numpy, it will be understood as (type, (1,)) / '(1,)type'.\n",
      "  _np_qint16 = np.dtype([(\"qint16\", np.int16, 1)])\n",
      "/home/li/anaconda3/envs/keras/lib/python3.6/site-packages/tensorboard/compat/tensorflow_stub/dtypes.py:544: FutureWarning: Passing (type, 1) or '1type' as a synonym of type is deprecated; in a future version of numpy, it will be understood as (type, (1,)) / '(1,)type'.\n",
      "  _np_quint16 = np.dtype([(\"quint16\", np.uint16, 1)])\n",
      "/home/li/anaconda3/envs/keras/lib/python3.6/site-packages/tensorboard/compat/tensorflow_stub/dtypes.py:545: FutureWarning: Passing (type, 1) or '1type' as a synonym of type is deprecated; in a future version of numpy, it will be understood as (type, (1,)) / '(1,)type'.\n",
      "  _np_qint32 = np.dtype([(\"qint32\", np.int32, 1)])\n",
      "/home/li/anaconda3/envs/keras/lib/python3.6/site-packages/tensorboard/compat/tensorflow_stub/dtypes.py:550: FutureWarning: Passing (type, 1) or '1type' as a synonym of type is deprecated; in a future version of numpy, it will be understood as (type, (1,)) / '(1,)type'.\n",
      "  np_resource = np.dtype([(\"resource\", np.ubyte, 1)])\n"
     ]
    },
    {
     "name": "stdout",
     "output_type": "stream",
     "text": [
      "\n",
      "Configurations:\n",
      "BACKBONE                       resnet50\n",
      "BACKBONE_STRIDES               [4, 8, 16, 32, 64]\n",
      "BATCH_SIZE                     1\n",
      "BBOX_STD_DEV                   [0.1 0.1 0.2 0.2]\n",
      "BRANCH                         hour\n",
      "COMPUTE_BACKBONE_SHAPE         None\n",
      "DETECTION_MAX_INSTANCES        5\n",
      "DETECTION_MIN_CONFIDENCE       0.9\n",
      "DETECTION_NMS_THRESHOLD        0.3\n",
      "DOUBLE                         False\n",
      "FPN_CLASSIF_FC_LAYERS_SIZE     1024\n",
      "GPU_COUNT                      1\n",
      "GRADIENT_CLIP_NORM             5.0\n",
      "IMAGES_PER_GPU                 1\n",
      "IMAGE_CHANNEL_COUNT            3\n",
      "IMAGE_MAX_DIM                  512\n",
      "IMAGE_META_SIZE                14\n",
      "IMAGE_MIN_DIM                  512\n",
      "IMAGE_MIN_SCALE                0\n",
      "IMAGE_RESIZE_MODE              none\n",
      "IMAGE_SHAPE                    [512 512   3]\n",
      "INFERENCE_NUM                  200\n",
      "LEARNING_MOMENTUM              0.9\n",
      "LEARNING_RATE                  0.0005\n",
      "LOSS_WEIGHTS                   {'rpn_class_loss': 1.0, 'rpn_bbox_loss': 1.0, 'class_loss': 1.0, 'bbox_loss': 1.0, 'heatmap_loss': 8.0, 'mask_loss': 4.0}\n",
      "MASK_CHANNEL                   256\n",
      "MASK_LOSS_TYPE                 normal\n",
      "MASK_POOL_SIZE                 32\n",
      "MASK_SHAPE                     [64, 64]\n",
      "MAX_GT_INSTANCES               100\n",
      "MEAN_PIXEL                     [123.7 116.8 103.9]\n",
      "MINI_MASK_SHAPE                (64, 64)\n",
      "NAME                           guidewire\n",
      "NUM_CLASSES                    2\n",
      "NUM_KEYPOINT                   2\n",
      "POOL_SIZE                      7\n",
      "POST_NMS_ROIS_INFERENCE        1000\n",
      "POST_NMS_ROIS_TRAINING         2000\n",
      "PRE_NMS_LIMIT                  6000\n",
      "PRE_TRAIN                      True\n",
      "ROI_POSITIVE_RATIO             0.33\n",
      "RPN_ANCHOR_RATIOS              [0.5, 1, 2]\n",
      "RPN_ANCHOR_SCALES              (16, 32, 64, 128, 256)\n",
      "RPN_ANCHOR_STRIDE              1\n",
      "RPN_BBOX_STD_DEV               [0.1 0.1 0.2 0.2]\n",
      "RPN_NMS_THRESHOLD              0.7\n",
      "RPN_TRAIN_ANCHORS_PER_IMAGE    128\n",
      "SAME_MODE                      False\n",
      "SIGMA                          9\n",
      "STEPS_PER_EPOCH                500\n",
      "TOP_DOWN_PYRAMID_SIZE          256\n",
      "TRAIN_BN                       False\n",
      "TRAIN_BN_BACKBONE              False\n",
      "TRAIN_BN_NEW                   False\n",
      "TRAIN_ROIS_PER_IMAGE           50\n",
      "USE_MASK                       False\n",
      "USE_MINI_MASK                  True\n",
      "USE_P2                         True\n",
      "USE_RPN_ROIS                   True\n",
      "VALIDATION_STEPS               50\n",
      "WEIGHT_DECAY                   0.0001\n",
      "max_bright_delta               0.1\n",
      "max_contrast_delta             0.1\n",
      "\n",
      "\n"
     ]
    },
    {
     "name": "stderr",
     "output_type": "stream",
     "text": [
      "Using TensorFlow backend.\n"
     ]
    }
   ],
   "source": [
    "import os\n",
    "import sys\n",
    "import random\n",
    "import math\n",
    "import re\n",
    "import time\n",
    "import numpy as np\n",
    "import tensorflow as tf\n",
    "import matplotlib\n",
    "import matplotlib.pyplot as plt\n",
    "import matplotlib.patches as patches\n",
    "os.environ[\"CUDA_VISIBLE_DEVICES\"] = '1'\n",
    "# Root directory of the project\n",
    "ROOT_DIR = os.path.abspath(\"../../\")\n",
    "\n",
    "# Import Mask RCNN\n",
    "sys.path.append(ROOT_DIR)  # To find local version of the library\n",
    "from mrcnn import utils\n",
    "from mrcnn import visualize\n",
    "from mrcnn.visualize import display_images\n",
    "from mrcnn.model_point import log\n",
    "\n",
    "\n",
    "# Directory to save logs and trained model\n",
    "# MODEL_DIR = os.path.join(ROOT_DIR, \"logs_point\",)\n",
    "MODEL_DIR = '/home/li/Mask_RCNN_point/logs_point_test/res50_FF_hour256_8_0.0005_b2_k9/guidewire20210512T0016'\n",
    "sys.path.append(MODEL_DIR)\n",
    "import guidewire_config as guidewire\n",
    "import model as modellib\n",
    "config = guidewire.GuidewireConfig()\n",
    "guidewire_DIR = '/home/li/GuideWire/guidewire_2020'\n",
    "class InferenceConfig(config.__class__):\n",
    "    # Run detection on one image at a time\n",
    "    GPU_COUNT = 1\n",
    "    IMAGES_PER_GPU = 1\n",
    "\n",
    "config = InferenceConfig()\n",
    "config.display()"
   ]
  },
  {
   "cell_type": "code",
   "execution_count": 2,
   "metadata": {},
   "outputs": [
    {
     "name": "stdout",
     "output_type": "stream",
     "text": [
      "Images: 1041\n",
      "Classes: ['BG', 'guidewire']\n"
     ]
    }
   ],
   "source": [
    "# Load validation dataset\n",
    "dataset = guidewire.GuidewireDataset()\n",
    "dataset.load_guidewire(guidewire_DIR, \"val\")\n",
    "\n",
    "# Must call before using the dataset\n",
    "dataset.prepare()\n",
    "print(\"Images: {}\\nClasses: {}\".format(len(dataset.image_ids), dataset.class_names))"
   ]
  },
  {
   "cell_type": "code",
   "execution_count": 3,
   "metadata": {
    "scrolled": true
   },
   "outputs": [
    {
     "name": "stdout",
     "output_type": "stream",
     "text": [
      "resnet50\n",
      "WARNING:tensorflow:From /home/li/anaconda3/envs/keras/lib/python3.6/site-packages/keras/backend/tensorflow_backend.py:4070: The name tf.nn.max_pool is deprecated. Please use tf.nn.max_pool2d instead.\n",
      "\n",
      "WARNING:tensorflow:From /home/li/Mask_RCNN_point/logs_point_test/res50_FF_hour256_8_0.0005_b2_k9/guidewire20210512T0016/model.py:278: The name tf.log is deprecated. Please use tf.math.log instead.\n",
      "\n",
      "WARNING:tensorflow:From /home/li/Mask_RCNN_point/logs_point_test/res50_FF_hour256_8_0.0005_b2_k9/guidewire20210512T0016/model.py:462: add_dispatch_support.<locals>.wrapper (from tensorflow.python.ops.array_ops) is deprecated and will be removed in a future version.\n",
      "Instructions for updating:\n",
      "Use tf.where in 2.0, which has the same broadcast rule as np.where\n",
      "WARNING:tensorflow:From /home/li/Mask_RCNN_point/logs_point_test/res50_FF_hour256_8_0.0005_b2_k9/guidewire20210512T0016/model.py:486: calling crop_and_resize_v1 (from tensorflow.python.ops.image_ops_impl) with box_ind is deprecated and will be removed in a future version.\n",
      "Instructions for updating:\n",
      "box_ind is deprecated, use box_indices instead\n",
      "WARNING:tensorflow:From /home/li/Mask_RCNN_point/logs_point_test/res50_FF_hour256_8_0.0005_b2_k9/guidewire20210512T0016/model.py:1119: The name tf.sets.set_intersection is deprecated. Please use tf.sets.intersection instead.\n",
      "\n",
      "WARNING:tensorflow:From /home/li/Mask_RCNN_point/logs_point_test/res50_FF_hour256_8_0.0005_b2_k9/guidewire20210512T0016/model.py:1121: The name tf.sparse_tensor_to_dense is deprecated. Please use tf.sparse.to_dense instead.\n",
      "\n",
      "WARNING:tensorflow:From /home/li/Mask_RCNN_point/logs_point_test/res50_FF_hour256_8_0.0005_b2_k9/guidewire20210512T0016/model.py:1171: to_float (from tensorflow.python.ops.math_ops) is deprecated and will be removed in a future version.\n",
      "Instructions for updating:\n",
      "Use `tf.cast` instead.\n",
      "Loading weights  /home/li/Mask_RCNN_point/logs_point_test/res50_FF_hour256_8_0.0005_b2_k9/guidewire20210512T0016/mask_rcnn_guidewire_0080.h5\n",
      "Re-starting from epoch 80\n"
     ]
    }
   ],
   "source": [
    "DEVICE = \"/gpu:0\"\n",
    "TEST_MODE = \"inference\"\n",
    "with tf.device(DEVICE):\n",
    "    model = modellib.MaskRCNN(mode=TEST_MODE, model_dir=MODEL_DIR,\n",
    "                              config=config)\n",
    "# Set path to weights file\n",
    "def find_last1(dir_name):\n",
    "        \"\"\"Finds the last checkpoint file of the last trained model in the\n",
    "        model directory.\n",
    "        \"\"\"\n",
    "        # Find the last checkpoint\n",
    "        checkpoints = next(os.walk(dir_name))[2]\n",
    "        checkpoints = filter(lambda f: f.startswith(\"mask_rcnn\"), checkpoints)\n",
    "        checkpoints = sorted(checkpoints)\n",
    "        if not checkpoints:\n",
    "            import errno\n",
    "            raise FileNotFoundError(\n",
    "                errno.ENOENT, \"Could not find weight files in {}\".format(dir_name))\n",
    "        checkpoint = os.path.join(dir_name, checkpoints[-1])\n",
    "        return checkpoint    \n",
    "\n",
    "# Or, load the last model you trained\n",
    "weights_path = find_last1(MODEL_DIR)\n",
    "# weights_path = \"/home/li/Mask_RCNN_point/logs_point1/resnet_aug_False_oldall_p2_slim/guidewire20201015T1528/mask_rcnn_guidewire_0001.h5\"\n",
    "# Load weights\n",
    "print(\"Loading weights \", weights_path)\n",
    "model.load_weights(weights_path, by_name=True)"
   ]
  },
  {
   "cell_type": "code",
   "execution_count": 8,
   "metadata": {
    "scrolled": true
   },
   "outputs": [
    {
     "name": "stdout",
     "output_type": "stream",
     "text": [
      "avg_infer_time:0.13483106391459676\n",
      "tip ap:  0.5396419960316137\n",
      "back ap:  0.5740403738240891\n",
      "mAP:  0.5568411849278514\n",
      "tip ap:  0.7852213758768757\n",
      "back ap:  0.8793382304044728\n",
      "mAP:  0.8322798031406742\n",
      "tip ap:  0.8468529623494809\n",
      "back ap:  0.9132211664550691\n",
      "mAP:  0.880037064402275\n",
      "tip ap:  0.8731502521325687\n",
      "back ap:  0.9228108011129961\n",
      "mAP:  0.8979805266227824\n"
     ]
    }
   ],
   "source": [
    "# AP\n",
    "import compute_ap\n",
    "MAP = compute_ap.MAPCallback(model, dataset, ['tip','back'], threshold=7, inference_num=1041)\n",
    "# MAP = compute_ap.MAPCallbackSame(model, dataset, ['tip'], threshold=7, inference_num =1041)\n",
    "MAP.on_epoch_end()"
   ]
  },
  {
   "cell_type": "code",
   "execution_count": 4,
   "metadata": {},
   "outputs": [
    {
     "name": "stdout",
     "output_type": "stream",
     "text": [
      "WARNING:tensorflow:From /home/li/anaconda3/envs/keras/lib/python3.6/site-packages/keras/backend/tensorflow_backend.py:422: The name tf.global_variables is deprecated. Please use tf.compat.v1.global_variables instead.\n",
      "\n"
     ]
    }
   ],
   "source": [
    "import compute_ap\n",
    "import imp\n",
    "imp.reload(compute_ap)\n",
    "# TXT_DIR = '/home/li/GuideWire/guidewire_2020/txt'\n",
    "pic_filename = '/home/li/GuideWire/guidewire_2020/val'\n",
    "output_dir = '/home/li/Mask_RCNN_point/result_1'\n",
    "compute_ap.make_output(pic_filename, model, output_dir)"
   ]
  },
  {
   "cell_type": "code",
   "execution_count": null,
   "metadata": {},
   "outputs": [],
   "source": [
    "# detection\n",
    "import compute_ap\n",
    "import imp\n",
    "imp.reload(compute_ap)\n",
    "MAP = compute_ap.MAPCallbackBox(model, dataset, ['guidewire'], inference_num=1041)\n",
    "MAP.on_epoch_end()"
   ]
  },
  {
   "cell_type": "code",
   "execution_count": null,
   "metadata": {},
   "outputs": [],
   "source": [
    "# AP_PCK\n",
    "import compute_ap\n",
    "DEVICE = \"/gpu:0\"\n",
    "TEST_MODE = \"point_inference\"\n",
    "with tf.device(DEVICE):\n",
    "    model = modellib.MaskRCNN(mode=TEST_MODE, model_dir=MODEL_DIR,\n",
    "                              config=config)\n",
    "# Set path to weights file\n",
    "def find_last1(dir_name):\n",
    "        \"\"\"Finds the last checkpoint file of the last trained model in the\n",
    "        model directory.\n",
    "        \"\"\"\n",
    "        # Find the last checkpoint\n",
    "        checkpoints = next(os.walk(dir_name))[2]\n",
    "        checkpoints = filter(lambda f: f.startswith(\"mask_rcnn\"), checkpoints)\n",
    "        checkpoints = sorted(checkpoints)\n",
    "        if not checkpoints:\n",
    "            import errno\n",
    "            raise FileNotFoundError(\n",
    "                errno.ENOENT, \"Could not find weight files in {}\".format(dir_name))\n",
    "        checkpoint = os.path.join(dir_name, checkpoints[-1])\n",
    "        return checkpoint    \n",
    "\n",
    "# Or, load the last model you trained\n",
    "weights_path = find_last1(MODEL_DIR)\n",
    "# weights_path = \"/home/li/Mask_RCNN_point/logs_point1/resnet_aug_False_oldall_p2_slim/guidewire20201015T1528/mask_rcnn_guidewire_0001.h5\"\n",
    "# Load weights\n",
    "print(\"Loading weights \", weights_path)\n",
    "model.load_weights(weights_path, by_name=True)\n",
    "MAP = compute_ap.MAPCallbackPCK(model, dataset, ['tip','back'], inference_num=1041)\n",
    "MAP.on_epoch_end()"
   ]
  },
  {
   "cell_type": "code",
   "execution_count": 6,
   "metadata": {},
   "outputs": [
    {
     "name": "stdout",
     "output_type": "stream",
     "text": [
      "avg_infer_time:0.13407498271733265\n",
      "tip ap:  0.3981903929880875\n",
      "mAP:  0.3981903929880875\n",
      "tip ap:  0.6881625300022318\n",
      "mAP:  0.6881625300022318\n",
      "tip ap:  0.752650798917317\n",
      "mAP:  0.752650798917317\n",
      "tip ap:  0.7762002126063311\n",
      "mAP:  0.7762002126063311\n"
     ]
    }
   ],
   "source": [
    "import compute_ap\n",
    "MAP = compute_ap.MAPCallbackMask(model, dataset, ['tip'], threshold=0.05, inference_num =1041)\n",
    "MAP.on_epoch_end()"
   ]
  },
  {
   "cell_type": "code",
   "execution_count": null,
   "metadata": {},
   "outputs": [],
   "source": []
  }
 ],
 "metadata": {
  "kernelspec": {
   "display_name": "Python 3",
   "language": "python",
   "name": "python3"
  },
  "language_info": {
   "codemirror_mode": {
    "name": "ipython",
    "version": 3
   },
   "file_extension": ".py",
   "mimetype": "text/x-python",
   "name": "python",
   "nbconvert_exporter": "python",
   "pygments_lexer": "ipython3",
   "version": "3.6.2"
  }
 },
 "nbformat": 4,
 "nbformat_minor": 4
}
